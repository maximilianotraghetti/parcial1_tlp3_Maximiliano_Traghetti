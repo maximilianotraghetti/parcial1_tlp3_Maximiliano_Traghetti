{
 "cells": [
  {
   "cell_type": "markdown",
   "id": "9fee5ee9",
   "metadata": {},
   "source": [
    "# Examen Parcial n°1 2da Parte - TLP3 - Python para Ciencia de Datos.\n"
   ]
  },
  {
   "cell_type": "markdown",
   "id": "999099d0",
   "metadata": {},
   "source": [
    "**A partir del datasets brindado, realizar los siguientes procedimientos:**\n",
    "\n",
    "* Importar datasets con Pandas.\n",
    "* Explorar los datos con los metodos correspondientes. \n",
    "* Limpieza de los datos (Normalización de datos).\n",
    "* Obtener estadisticas.\n",
    "* Mostrar los datos procesados con graficos utilizando la libreria Matplotlib.\n",
    "* Exportar el contenido a un archivo sqlite utilizando PANDAS.\n",
    "\n",
    "\n",
    "**Importante: Se debe documentar cada procedimiento realizado, siguiendo la siguiente estructura:**\n",
    "\n",
    "1. Celda de Markdown (Documentación)\n",
    "2. Código (Sin comentarios, se debe documentar lo sufiente solo en la celda de markdown).\n",
    "\n",
    "\n",
    "### Criterios de Evaluación:\n",
    "\n",
    "1. No esta permitido el uso de IAs durante el examen. (Desactivar Copilot o cualquier herramienta de IA para autocompletar codigo.)\n",
    "\n",
    "2. Se deben utilizar nombres de variables descriptivos y claros (Utilizar la nomeclatura correspondiente para los nombres de variables).\n",
    "\n",
    "3. Comentarios claros y concisos que expliquen el propósito de cada sección del código en una celda de markdown antes del código.\n",
    "\n",
    "4. Utilizar mensajes de commit descriptivos. (Puedes utilizar la extension CONVENTIONAL COMMIT de VS-CODE).\n",
    "\n",
    "5. Entrega en tiempo y forma (Parciales entregados fuera de hora o con commits pasados el horario de entrega quedará invalidado.)\n",
    "\n",
    "6. Todo el código desarrollado debe ser subido a un repositorio en GitHub (el nombre del repositorio de seguir la siguiente estructura: \n",
    "**parcial1_tlp3_nombre_apellido**).\n",
    "\n",
    "7. Para resolver las actividades se debe insertar casillas de codigo entre cada actividad del cuaderno de Jupyter.\n",
    "\n",
    "8. Deben trabajar con el datasets adjunto.\n",
    "\n",
    "9. Una vez finalizado el examen, los resultados deben quedar guardados debajo de cada celda (NO EJECUTAR LA OPCIÓN \"borrar todas las salidas\").\n",
    "\n",
    "**Importante:** Una vez finalizado el examen, marcar como completado en el classroom."
   ]
  },
  {
   "cell_type": "markdown",
   "id": "ef444abc",
   "metadata": {},
   "source": [
    "## Actividades: \n",
    "### 1. Importación del Dataset con Pandas\n",
    "\n",
    "En esta sección, se debe utilizar la librería Pandas para cargar el archivo CSV que contiene los datos de VENTAS en un DataFrame."
   ]
  },
  {
   "cell_type": "code",
   "execution_count": 67,
   "id": "03596e27",
   "metadata": {},
   "outputs": [],
   "source": [
    "import pandas as pd\n",
    "\n",
    "df = pd.read_csv('./ventas.csv')\n"
   ]
  },
  {
   "cell_type": "markdown",
   "id": "c1776e66",
   "metadata": {},
   "source": [
    "### 2. Exploración Inicial de los Datos\n",
    "\n",
    "A continuación, se deben emplear métodos de Pandas para obtener una visión general del dataset. \n",
    "- 2.1: Visualizar las primeras filas y ultimas.\n",
    "- 2.2: Obtener informacion del df con su metodo correspondiente.\n",
    "- 2.3: Hacer un conteo de valores nulos.\n"
   ]
  },
  {
   "cell_type": "code",
   "execution_count": 68,
   "id": "811800b9",
   "metadata": {},
   "outputs": [
    {
     "name": "stdout",
     "output_type": "stream",
     "text": [
      "Primeras Filas\n",
      "   ID_Venta Nombre_Cliente Apellido_Cliente       Fecha  \\\n",
      "0         1            Ana           García  01-05-2024   \n",
      "1         2         Carlos            López  2024-01-08   \n",
      "2         3          sofía         martínez  2024-01-12   \n",
      "3         4          pedro        rodríguez  2024-01-15   \n",
      "4         5          Laura          Sánchez  18-01-2024   \n",
      "\n",
      "                Producto  Cantidad  Precio_Unitario  Total_Venta  \\\n",
      "0                 Laptop         1          1200.50      1200.50   \n",
      "1      Mouse Inalámbrico         2            25.75        51.50   \n",
      "2       Teclado Mecánico         1            75.99        75.99   \n",
      "3    Monitor 24 pulgadas         1              NaN          NaN   \n",
      "4  Auriculares Bluetooth         1            99.95        99.95   \n",
      "\n",
      "              Metodo_Pago Region  \n",
      "0      Tarjeta de Crédito  Norte  \n",
      "1                Efectivo    Sur  \n",
      "2  Transferencia Bancaria   Este  \n",
      "3       Tarjeta de Débito  Oeste  \n",
      "4      Tarjeta de Crédito  Norte  \n",
      "Ultimas Filas\n",
      "     ID_Venta Nombre_Cliente Apellido_Cliente       Fecha  \\\n",
      "100       101        Agustín           Torres  2024-10-08   \n",
      "101       102         Camila             Vega  2024-10-11   \n",
      "102       103           Juan            Rojas  2024-10-15   \n",
      "103       104          Lucía            Silva  2024-10-18   \n",
      "104       105          mateo             luna  2024-10-22   \n",
      "\n",
      "                 Producto  Cantidad  Precio_Unitario  Total_Venta  \\\n",
      "100        Pen Drive 64GB         4             8.75         35.0   \n",
      "101         Laptop Ligera         1              NaN       1180.0   \n",
      "102                   NaN         1            48.99          NaN   \n",
      "103     Teclado Bluetooth         1            78.20         78.2   \n",
      "104  Monitor para Oficina         1             2.00        210.5   \n",
      "\n",
      "                Metodo_Pago Region  \n",
      "100       Tarjeta de Débito  Oeste  \n",
      "101      Tarjeta de Crédito  Norte  \n",
      "102                Efectivo    Sur  \n",
      "103  Transferencia Bancaria   Este  \n",
      "104       Tarjeta de Débito  Oeste  \n",
      "Informaciòn del DF\n",
      "<class 'pandas.core.frame.DataFrame'>\n",
      "RangeIndex: 105 entries, 0 to 104\n",
      "Data columns (total 10 columns):\n",
      " #   Column            Non-Null Count  Dtype  \n",
      "---  ------            --------------  -----  \n",
      " 0   ID_Venta          105 non-null    int64  \n",
      " 1   Nombre_Cliente    105 non-null    object \n",
      " 2   Apellido_Cliente  105 non-null    object \n",
      " 3   Fecha             105 non-null    object \n",
      " 4   Producto          101 non-null    object \n",
      " 5   Cantidad          105 non-null    int64  \n",
      " 6   Precio_Unitario   92 non-null     float64\n",
      " 7   Total_Venta       92 non-null     float64\n",
      " 8   Metodo_Pago       94 non-null     object \n",
      " 9   Region            100 non-null    object \n",
      "dtypes: float64(2), int64(2), object(6)\n",
      "memory usage: 8.3+ KB\n",
      "None\n",
      "Conteo de valores Nulos\n",
      "ID_Venta             0\n",
      "Nombre_Cliente       0\n",
      "Apellido_Cliente     0\n",
      "Fecha                0\n",
      "Producto             4\n",
      "Cantidad             0\n",
      "Precio_Unitario     13\n",
      "Total_Venta         13\n",
      "Metodo_Pago         11\n",
      "Region               5\n",
      "dtype: int64\n"
     ]
    }
   ],
   "source": [
    "import pandas as pd\n",
    "\n",
    "df = pd.read_csv('./ventas.csv')\n",
    "#2.1\n",
    "print('Primeras Filas')\n",
    "print(df.head())\n",
    "\n",
    "print('Ultimas Filas')\n",
    "print(df.tail())\n",
    "#2.2\n",
    "print('Informaciòn del DF')\n",
    "print(df.info())\n",
    "#2.3\n",
    "print('Conteo de valores Nulos')\n",
    "print(df.isnull().sum())"
   ]
  },
  {
   "cell_type": "markdown",
   "id": "80e3b9ab",
   "metadata": {},
   "source": [
    "### 3. Limpieza y Normalización de los Datos\n",
    "\n",
    "- 3.1. Esta etapa crucial deben aplicar la corrección de diversos errores presentes en el dataset. Se abordarán los valores faltantes (Deben aplicar los metodos que ustedes crean convenientes **(Solo 1)**, por ejemplo: Eliminación de filas, cubrir valores con media, mediana, etc.)\n",
    "- 3.2: La columna Fecha deberan pasarla al tipo datetime con su metodo correspondiente.\n",
    "- 3.3: Corregir las mayusculas en el caso de Nombre y Apellido (Si es que corresponde.)"
   ]
  },
  {
   "cell_type": "code",
   "execution_count": 69,
   "id": "9ff7b5b9",
   "metadata": {},
   "outputs": [
    {
     "name": "stdout",
     "output_type": "stream",
     "text": [
      "Arreglado con Media y la fecha:\n",
      "   ID_Venta Nombre_Cliente Apellido_Cliente      Fecha               Producto  \\\n",
      "0         1            Ana           García 2024-05-01                 Laptop   \n",
      "1         2         Carlos            López        NaT      Mouse Inalámbrico   \n",
      "2         3          sofía         martínez        NaT       Teclado Mecánico   \n",
      "3         4          pedro        rodríguez        NaT    Monitor 24 pulgadas   \n",
      "4         5          Laura          Sánchez 2024-01-18  Auriculares Bluetooth   \n",
      "\n",
      "   Cantidad  Precio_Unitario  Total_Venta             Metodo_Pago Region  \n",
      "0         1      1200.500000  1200.500000      Tarjeta de Crédito  Norte  \n",
      "1         2        25.750000    51.500000                Efectivo    Sur  \n",
      "2         1        75.990000    75.990000  Transferencia Bancaria   Este  \n",
      "3         1       240.609239   251.062609       Tarjeta de Débito  Oeste  \n",
      "4         1        99.950000    99.950000      Tarjeta de Crédito  Norte  \n"
     ]
    }
   ],
   "source": [
    "import pandas as pd\n",
    "import numpy as np\n",
    "\n",
    "#3.1\n",
    "df['Precio_Unitario'] = df['Precio_Unitario'].fillna(df['Precio_Unitario'].mean())\n",
    "df['Total_Venta'] = df['Total_Venta'].fillna(df['Total_Venta'].mean())\n",
    "\n",
    "print('Arreglado con Media y la fecha:')\n",
    "\n",
    "#3.2\n",
    "df['Fecha'] = pd.to_datetime(df['Fecha'], errors='coerce', dayfirst=True)\n",
    "print(df.head())\n",
    "\n",
    "#3.3\n"
   ]
  },
  {
   "cell_type": "markdown",
   "id": "89916164",
   "metadata": {},
   "source": [
    "### 4. Obtención de Estadísticas Descriptivas\n",
    "\n",
    "Después de la limpieza, deben hacer lo siguiente: \n",
    "\n",
    "- 4.1: calcular nuevamente las estadísticas descriptivas para observar el impacto del proceso de limpieza en los datos numéricos.\n",
    "- 4.2: Calcular estadísticas específicas por grupo (Agrupar dos columnas)."
   ]
  },
  {
   "cell_type": "code",
   "execution_count": null,
   "id": "354ebfbf",
   "metadata": {},
   "outputs": [
    {
     "name": "stdout",
     "output_type": "stream",
     "text": [
      "       Precio_Unitario  Total_Venta\n",
      "count       105.000000   105.000000\n",
      "mean        240.609239   251.062609\n",
      "std         367.488641   353.977485\n",
      "min           2.000000     0.000000\n",
      "25%          55.000000    62.750000\n",
      "50%         110.000000   115.000000\n",
      "75%         240.609239   251.062609\n",
      "max        1800.990000  1800.990000\n"
     ]
    }
   ],
   "source": [
    "import pandas as pd\n",
    "\n",
    "print(df[['Precio_Unitario','Total_Venta']].describe())\n",
    "\n"
   ]
  },
  {
   "cell_type": "markdown",
   "id": "dd91f969",
   "metadata": {},
   "source": [
    "\n",
    "### 5. Visualización de los Datos con Matplotlib\n",
    "\n",
    "En esta sección, deben utilizar la librería Matplotlib para crear **UNA** visualización que permitan comprender mejor los datos de ventas.El grafico es a elección, puede crear **UNO** de los siguientes: histogramas, diagramas de dispersión, gráficos de barras y graficos de torta.\n",
    "\n",
    "### 6. Exportación a Archivo SQLite\n",
    "\n",
    "Finalmente, deben utilizar la funcionalidad de Pandas para guardar el DataFrame procesado en una base de datos SQLite. Deben hacer una conexión y hacer una consulta para ver si los datos fueron cargados correctamente.\n",
    "\n"
   ]
  },
  {
   "cell_type": "code",
   "execution_count": null,
   "id": "08a704ee",
   "metadata": {},
   "outputs": [],
   "source": []
  }
 ],
 "metadata": {
  "kernelspec": {
   "display_name": "examen",
   "language": "python",
   "name": "python3"
  },
  "language_info": {
   "codemirror_mode": {
    "name": "ipython",
    "version": 3
   },
   "file_extension": ".py",
   "mimetype": "text/x-python",
   "name": "python",
   "nbconvert_exporter": "python",
   "pygments_lexer": "ipython3",
   "version": "3.13.2"
  }
 },
 "nbformat": 4,
 "nbformat_minor": 5
}
